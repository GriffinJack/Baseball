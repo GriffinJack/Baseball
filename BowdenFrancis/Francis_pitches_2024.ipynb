{
 "cells": [
  {
   "cell_type": "markdown",
   "metadata": {},
   "source": [
    "### Bowden Francis - Pitch Aresenal \n",
    "\n",
    "Lets take a look at Bowden Francis and his Pitch Aresenal for the 2024 season shall we! \n",
    "\n",
    "First we need some data! "
   ]
  },
  {
   "cell_type": "code",
   "execution_count": 6,
   "metadata": {},
   "outputs": [],
   "source": [
    "import pandas as pd \n",
    "import numpy as np \n",
    "from pybaseball import statcast_pitcher, statcast_pitcher_arsenal_stats, playerid_lookup"
   ]
  },
  {
   "cell_type": "code",
   "execution_count": 46,
   "metadata": {},
   "outputs": [
    {
     "data": {
      "text/html": [
       "<div>\n",
       "<style scoped>\n",
       "    .dataframe tbody tr th:only-of-type {\n",
       "        vertical-align: middle;\n",
       "    }\n",
       "\n",
       "    .dataframe tbody tr th {\n",
       "        vertical-align: top;\n",
       "    }\n",
       "\n",
       "    .dataframe thead th {\n",
       "        text-align: right;\n",
       "    }\n",
       "</style>\n",
       "<table border=\"1\" class=\"dataframe\">\n",
       "  <thead>\n",
       "    <tr style=\"text-align: right;\">\n",
       "      <th></th>\n",
       "      <th>last_name, first_name</th>\n",
       "      <th>player_id</th>\n",
       "      <th>team_name_alt</th>\n",
       "      <th>pitch_type</th>\n",
       "      <th>pitch_name</th>\n",
       "      <th>run_value_per_100</th>\n",
       "      <th>run_value</th>\n",
       "      <th>pitches</th>\n",
       "      <th>pitch_usage</th>\n",
       "      <th>pa</th>\n",
       "      <th>ba</th>\n",
       "      <th>slg</th>\n",
       "      <th>woba</th>\n",
       "      <th>whiff_percent</th>\n",
       "      <th>k_percent</th>\n",
       "      <th>put_away</th>\n",
       "      <th>est_ba</th>\n",
       "      <th>est_slg</th>\n",
       "      <th>est_woba</th>\n",
       "      <th>hard_hit_percent</th>\n",
       "    </tr>\n",
       "  </thead>\n",
       "  <tbody>\n",
       "    <tr>\n",
       "      <th>95</th>\n",
       "      <td>Francis, Bowden</td>\n",
       "      <td>670102</td>\n",
       "      <td>TOR</td>\n",
       "      <td>FF</td>\n",
       "      <td>4-Seam Fastball</td>\n",
       "      <td>1.9</td>\n",
       "      <td>15</td>\n",
       "      <td>797</td>\n",
       "      <td>51.1</td>\n",
       "      <td>231</td>\n",
       "      <td>0.174</td>\n",
       "      <td>0.371</td>\n",
       "      <td>0.271</td>\n",
       "      <td>18.5</td>\n",
       "      <td>20.3</td>\n",
       "      <td>19.6</td>\n",
       "      <td>0.215</td>\n",
       "      <td>0.423</td>\n",
       "      <td>0.302</td>\n",
       "      <td>39.5</td>\n",
       "    </tr>\n",
       "    <tr>\n",
       "      <th>815</th>\n",
       "      <td>Francis, Bowden</td>\n",
       "      <td>670102</td>\n",
       "      <td>TOR</td>\n",
       "      <td>FS</td>\n",
       "      <td>Split-Finger</td>\n",
       "      <td>1.3</td>\n",
       "      <td>4</td>\n",
       "      <td>287</td>\n",
       "      <td>18.4</td>\n",
       "      <td>78</td>\n",
       "      <td>0.169</td>\n",
       "      <td>0.169</td>\n",
       "      <td>0.171</td>\n",
       "      <td>22.5</td>\n",
       "      <td>34.6</td>\n",
       "      <td>19.3</td>\n",
       "      <td>0.190</td>\n",
       "      <td>0.259</td>\n",
       "      <td>0.201</td>\n",
       "      <td>34.0</td>\n",
       "    </tr>\n",
       "    <tr>\n",
       "      <th>1084</th>\n",
       "      <td>Francis, Bowden</td>\n",
       "      <td>670102</td>\n",
       "      <td>TOR</td>\n",
       "      <td>CU</td>\n",
       "      <td>Curveball</td>\n",
       "      <td>-1.6</td>\n",
       "      <td>-5</td>\n",
       "      <td>283</td>\n",
       "      <td>18.2</td>\n",
       "      <td>59</td>\n",
       "      <td>0.308</td>\n",
       "      <td>0.558</td>\n",
       "      <td>0.395</td>\n",
       "      <td>24.3</td>\n",
       "      <td>16.9</td>\n",
       "      <td>13.7</td>\n",
       "      <td>0.268</td>\n",
       "      <td>0.389</td>\n",
       "      <td>0.323</td>\n",
       "      <td>20.9</td>\n",
       "    </tr>\n",
       "    <tr>\n",
       "      <th>1823</th>\n",
       "      <td>Francis, Bowden</td>\n",
       "      <td>670102</td>\n",
       "      <td>TOR</td>\n",
       "      <td>SL</td>\n",
       "      <td>Slider</td>\n",
       "      <td>-1.7</td>\n",
       "      <td>-2</td>\n",
       "      <td>143</td>\n",
       "      <td>9.2</td>\n",
       "      <td>27</td>\n",
       "      <td>0.250</td>\n",
       "      <td>0.583</td>\n",
       "      <td>0.419</td>\n",
       "      <td>43.6</td>\n",
       "      <td>29.6</td>\n",
       "      <td>28.6</td>\n",
       "      <td>0.222</td>\n",
       "      <td>0.387</td>\n",
       "      <td>0.308</td>\n",
       "      <td>50.0</td>\n",
       "    </tr>\n",
       "    <tr>\n",
       "      <th>2328</th>\n",
       "      <td>Francis, Bowden</td>\n",
       "      <td>670102</td>\n",
       "      <td>TOR</td>\n",
       "      <td>SI</td>\n",
       "      <td>Sinker</td>\n",
       "      <td>1.8</td>\n",
       "      <td>1</td>\n",
       "      <td>48</td>\n",
       "      <td>3.1</td>\n",
       "      <td>13</td>\n",
       "      <td>0.182</td>\n",
       "      <td>0.455</td>\n",
       "      <td>0.331</td>\n",
       "      <td>6.5</td>\n",
       "      <td>0.0</td>\n",
       "      <td>0.0</td>\n",
       "      <td>0.243</td>\n",
       "      <td>0.315</td>\n",
       "      <td>0.320</td>\n",
       "      <td>36.4</td>\n",
       "    </tr>\n",
       "  </tbody>\n",
       "</table>\n",
       "</div>"
      ],
      "text/plain": [
       "     last_name, first_name  player_id  ... est_woba hard_hit_percent\n",
       "95         Francis, Bowden     670102  ...    0.302             39.5\n",
       "815        Francis, Bowden     670102  ...    0.201             34.0\n",
       "1084       Francis, Bowden     670102  ...    0.323             20.9\n",
       "1823       Francis, Bowden     670102  ...    0.308             50.0\n",
       "2328       Francis, Bowden     670102  ...    0.320             36.4\n",
       "\n",
       "[5 rows x 20 columns]"
      ]
     },
     "execution_count": 46,
     "metadata": {},
     "output_type": "execute_result"
    }
   ],
   "source": [
    "#Get pitch aresenal data \n",
    "\n",
    "season = 2024\n",
    "id = int(playerid_lookup(first = 'Bowden', last = 'Francis')['key_mlbam'].values[0])\n",
    "\n",
    "#Had to lower mingPA as sinker was not used much\n",
    "allPitchers = statcast_pitcher_arsenal_stats(season, minPA=10)\n",
    "Francis = allPitchers[allPitchers['player_id'] == id]\n",
    "\n",
    "Francis"
   ]
  },
  {
   "cell_type": "code",
   "execution_count": 47,
   "metadata": {},
   "outputs": [
    {
     "name": "stdout",
     "output_type": "stream",
     "text": [
      "Gathering Player Data\n"
     ]
    }
   ],
   "source": [
    "#Get all pitch by pitch data \n",
    "start = '2024-03-20'\n",
    "end = '2024-9-30'\n",
    "\n",
    "Francis_pbp = statcast_pitcher(start, end, id)"
   ]
  },
  {
   "cell_type": "code",
   "execution_count": 50,
   "metadata": {},
   "outputs": [
    {
     "data": {
      "text/plain": [
       "pitch_type\n",
       "FF    797\n",
       "FS    287\n",
       "CU    283\n",
       "SL    143\n",
       "SI     48\n",
       "Name: count, dtype: int64"
      ]
     },
     "execution_count": 50,
     "metadata": {},
     "output_type": "execute_result"
    }
   ],
   "source": [
    "Francis_pbp['pitch_type'].value_counts()"
   ]
  },
  {
   "cell_type": "code",
   "execution_count": null,
   "metadata": {},
   "outputs": [],
   "source": []
  }
 ],
 "metadata": {
  "kernelspec": {
   "display_name": "Python 3",
   "language": "python",
   "name": "python3"
  },
  "language_info": {
   "codemirror_mode": {
    "name": "ipython",
    "version": 3
   },
   "file_extension": ".py",
   "mimetype": "text/x-python",
   "name": "python",
   "nbconvert_exporter": "python",
   "pygments_lexer": "ipython3",
   "version": "3.13.1"
  }
 },
 "nbformat": 4,
 "nbformat_minor": 2
}
